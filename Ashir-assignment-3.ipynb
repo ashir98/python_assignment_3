{
 "cells": [
  {
   "cell_type": "code",
   "execution_count": 1,
   "id": "95382ff2",
   "metadata": {},
   "outputs": [
    {
     "name": "stdout",
     "output_type": "stream",
     "text": [
      "Twinkle,twinkle,little star,\n",
      "        How i wonder what you are! \n",
      "               Up Above the world so high, \n",
      "               like a diamond in the sky.\n",
      "Twinkle,twinkle,little star, \n",
      "        How I wonder what you are \n"
     ]
    }
   ],
   "source": [
    "#1 program\n",
    "poem = (\"Twinkle,twinkle,little star,\\n        How i wonder what you are! \\n               Up Above the world so high, \\n               like a diamond in the sky.\\nTwinkle,twinkle,little star, \\n        How I wonder what you are \");\n",
    "print(poem);\n",
    "\n"
   ]
  },
  {
   "cell_type": "code",
   "execution_count": 3,
   "id": "a8e0ad5f",
   "metadata": {},
   "outputs": [
    {
     "name": "stdout",
     "output_type": "stream",
     "text": [
      "python version\n",
      "3.8.8 (default, Apr 13 2021, 15:08:03) [MSC v.1916 64 bit (AMD64)]\n",
      "python info\n",
      "sys.version_info(major=3, minor=8, micro=8, releaselevel='final', serial=0)\n"
     ]
    }
   ],
   "source": [
    "#2 program\n",
    "import sys \n",
    "print(\"python version\");\n",
    "print(sys.version);\n",
    "print(\"python info\");\n",
    "print(sys.version_info)"
   ]
  },
  {
   "cell_type": "code",
   "execution_count": 4,
   "id": "2295c9d0",
   "metadata": {},
   "outputs": [
    {
     "name": "stdout",
     "output_type": "stream",
     "text": [
      "current date and time is:\n",
      "21-10-24  05:02:38\n"
     ]
    }
   ],
   "source": [
    "#3 program\n",
    "import datetime\n",
    "\n",
    "now = datetime.datetime.now();\n",
    "print(\"current date and time is:\");\n",
    "print(now.strftime(\"%y-%m-%d  %H:%M:%S\"))"
   ]
  },
  {
   "cell_type": "code",
   "execution_count": null,
   "id": "608d082c",
   "metadata": {},
   "outputs": [],
   "source": [
    "#4 programme\n",
    "import math\n",
    "radius = float(input(\"Enter the radius of the circle :\"));\n",
    "area = math.pi*radius*radius\n",
    "print(\"Area of the Circle is \",area);"
   ]
  },
  {
   "cell_type": "code",
   "execution_count": null,
   "id": "54862894",
   "metadata": {},
   "outputs": [],
   "source": [
    "#5 program\n",
    "fname = input(\"input your first name:\");\n",
    "lname = input(\"input your last name:\");\n",
    "print(\"Hello:\"+\" \"+lname+\" \"+fname);"
   ]
  },
  {
   "cell_type": "code",
   "execution_count": null,
   "id": "f807ebc2",
   "metadata": {},
   "outputs": [],
   "source": [
    "#6 program\n",
    "num11 = int(input(\"Enter Number 1 :\"));\n",
    "num22 = int(input(\"Enter Number 2 :\"));\n",
    "result = num11 + num22;\n",
    "print(num11,\" + \",num22,\" = \",result);"
   ]
  },
  {
   "cell_type": "code",
   "execution_count": null,
   "id": "8adefd2b",
   "metadata": {},
   "outputs": [],
   "source": [
    "#7 program\n",
    "Urdu = int(input(\"Enter marks for Urdu :\"));\n",
    "Eng = int(input(\"Enter marks for English :\"));\n",
    "Math = int(input(\"Enter marks for Math :\"));\n",
    "astroPhysics = int(input(\"Enter marks for astroPhysics :\"));\n",
    "Comp = int(input(\"Enter marks for Computer :\"));\n",
    "\n",
    "total = Urdu+Eng+Math+astroPhysics+Comp;\n",
    "percentage = total/5;\n",
    "\n",
    "if percentage>=85:\n",
    "    grade='A+';\n",
    "elif percentage>= 70:\n",
    "    grade='A';\n",
    "elif percentage>=60:\n",
    "    grade='B';\n",
    "elif percentage >=50:\n",
    "    grade='C';\n",
    "elif percentage>=40:\n",
    "    grade='D';\n",
    "elif percentage>=33:\n",
    "    grade='E';\n",
    "else:grade='FAIL';\n",
    "    \n",
    "print(\"Total marks :\",total);   \n",
    "print(\"Percentage :\",percentage);\n",
    "print(\"Grade :\",grade);\n"
   ]
  },
  {
   "cell_type": "code",
   "execution_count": null,
   "id": "b8ad1ec3",
   "metadata": {},
   "outputs": [],
   "source": [
    "#8 program\n",
    "number00 = int(input('Enter an Integer Number'));\n",
    "remainder = number00 % 2;\n",
    "if (remainder == 0):\n",
    "    print(number00,\"is an even number\");\n",
    "else:\n",
    "    print(number00,\"is an odd number\");"
   ]
  },
  {
   "cell_type": "code",
   "execution_count": null,
   "id": "3971fed0",
   "metadata": {},
   "outputs": [],
   "source": [
    "#9 program\n",
    "mylist = [7,5,95, \"Syed\",\"Areeb\",\"Ali\", 88,90];\n",
    "print(mylist);\n",
    "print(\"Length Of List is:\",len(mylist));"
   ]
  },
  {
   "cell_type": "code",
   "execution_count": null,
   "id": "575bb6c8",
   "metadata": {},
   "outputs": [],
   "source": [
    "#10 program\n",
    "lst = [3,0,4,0,88,1000];\n",
    "total=sum(lst);\n",
    "print(\"sum of all elements in given list:\", total);"
   ]
  },
  {
   "cell_type": "code",
   "execution_count": null,
   "id": "1c39ba5a",
   "metadata": {},
   "outputs": [],
   "source": [
    "#11 program\n",
    "lis = [20,77,100,110,33,6,22,90]\n",
    "print(\"Smallest element is :\",min(lis));\n",
    "print(\"largest element is :\",max(lis));"
   ]
  },
  {
   "cell_type": "code",
   "execution_count": null,
   "id": "1a1718c3",
   "metadata": {},
   "outputs": [],
   "source": [
    "#12 program\n",
    "arr=[1,1,2,3,5,8,13,21,34,55,89];\n",
    "lst=[]\n",
    "for i in arr:\n",
    "    if i<5:\n",
    "        lst.append(i);\n",
    "        print(lst);"
   ]
  },
  {
   "cell_type": "code",
   "execution_count": null,
   "id": "50270dcb",
   "metadata": {},
   "outputs": [],
   "source": []
  }
 ],
 "metadata": {
  "kernelspec": {
   "display_name": "Python 3",
   "language": "python",
   "name": "python3"
  },
  "language_info": {
   "codemirror_mode": {
    "name": "ipython",
    "version": 3
   },
   "file_extension": ".py",
   "mimetype": "text/x-python",
   "name": "python",
   "nbconvert_exporter": "python",
   "pygments_lexer": "ipython3",
   "version": "3.8.8"
  }
 },
 "nbformat": 4,
 "nbformat_minor": 5
}
